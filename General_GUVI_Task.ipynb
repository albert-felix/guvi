{
  "nbformat": 4,
  "nbformat_minor": 0,
  "metadata": {
    "colab": {
      "name": "General GUVI Task.ipynb",
      "provenance": [],
      "collapsed_sections": [
        "tkIF_96KYCcG"
      ],
      "toc_visible": true,
      "include_colab_link": true
    },
    "kernelspec": {
      "name": "python3",
      "display_name": "Python 3"
    }
  },
  "cells": [
    {
      "cell_type": "markdown",
      "metadata": {
        "id": "view-in-github",
        "colab_type": "text"
      },
      "source": [
        "<a href=\"https://colab.research.google.com/github/albert-felix/guvi/blob/master/General_GUVI_Task.ipynb\" target=\"_parent\"><img src=\"https://colab.research.google.com/assets/colab-badge.svg\" alt=\"Open In Colab\"/></a>"
      ]
    },
    {
      "cell_type": "markdown",
      "metadata": {
        "id": "tkIF_96KYCcG",
        "colab_type": "text"
      },
      "source": [
        "# Calculator\n"
      ]
    },
    {
      "cell_type": "code",
      "metadata": {
        "id": "NZNp6klF6PPu",
        "colab_type": "code",
        "colab": {}
      },
      "source": [
        "def add(a,b):\n",
        "    result = a+b\n",
        "    print(result)\n",
        "\n",
        "def sub(a,b):\n",
        "    result = a-b\n",
        "    print(result)\n",
        "\n",
        "def multiply(a,b):\n",
        "    result = a*b\n",
        "    print(result)\n",
        "\n",
        "def divide(a,b):\n",
        "    while True :\n",
        "        try:\n",
        "            result = a/b\n",
        "        except ZeroDivisionError:\n",
        "            print('Denominator cannot be zero for division')\n",
        "            input_2()\n",
        "            divide(input_1.value_1,input_2.value_2)\n",
        "            break\n",
        "        else:\n",
        "            print(result)\n",
        "            break\n",
        "\n",
        "def mod(a,b):\n",
        "    while True :\n",
        "        try:\n",
        "            result = a%b\n",
        "        except ZeroDivisionError:\n",
        "            print('Denominator cannot be zero for division')\n",
        "            input_2()\n",
        "            mod(input_1.value_1,input_2.value_2)\n",
        "            break\n",
        "        else:\n",
        "            print(result)\n",
        "            break\n",
        "\n",
        "def option():\n",
        "    print('1 -- ADD')\n",
        "    print('2 -- SUBTRACT')\n",
        "    print('3 -- MULTIPLY')\n",
        "    print('4 -- DIVIDE')\n",
        "    print('5 -- MOD')\n",
        "    operator = int(input('Enter an option : '))\n",
        "    operators = [1,2,3,4,5]\n",
        "    while operator in operators:\n",
        "        if operator == 1:\n",
        "            add(input_1.value_1,input_2.value_2)\n",
        "            break\n",
        "        elif operator == 2:\n",
        "            sub(input_1.value_1,input_2.value_2)\n",
        "            break\n",
        "        elif operator == 3:\n",
        "            multiply(input_1.value_1,input_2.value_2)\n",
        "            break\n",
        "        elif operator == 4:\n",
        "            divide(input_1.value_1,input_2.value_2)\n",
        "            break\n",
        "        elif operator == 5:\n",
        "            mod(input_1.value_1,input_2.value_2)\n",
        "            break\n",
        "    else:\n",
        "        print('Invalid Option')\n",
        "        option()\n",
        "\n",
        "def input_1():\n",
        "    while True:\n",
        "        try:\n",
        "            input_1.value_1 = float(input('Enter number 1 :'))\n",
        "        except ValueError:\n",
        "            print('Invalid input')\n",
        "            continue\n",
        "        else:\n",
        "            break\n",
        "\n",
        "def input_2():\n",
        "    while True:\n",
        "        try:\n",
        "            input_2.value_2 = float(input('Enter number 2 :'))\n",
        "        except ValueError:\n",
        "            print('Invalid input')\n",
        "            continue\n",
        "        else:\n",
        "            break\n",
        "\n",
        "input_1()\n",
        "input_2()\n",
        "option()\n"
      ],
      "execution_count": 0,
      "outputs": []
    },
    {
      "cell_type": "markdown",
      "metadata": {
        "id": "1SIz-cSAYWeT",
        "colab_type": "text"
      },
      "source": [
        "# Built_In_Function"
      ]
    },
    {
      "cell_type": "code",
      "metadata": {
        "id": "669LvYwqjhTS",
        "colab_type": "code",
        "colab": {}
      },
      "source": [
        "# Sort Function\n",
        "\n",
        "def sort(string):\n",
        "    temp = string\n",
        "    new = []\n",
        "    if (all(isinstance(n,int)for n in temp)):\n",
        "        while len(temp)>0:\n",
        "            value = temp[0]\n",
        "            for i in range(1,len(temp)):\n",
        "                if temp[i]<value:\n",
        "                    value = temp[i]\n",
        "            new.append(value)\n",
        "            temp.remove(value)\n",
        "        return(new)\n",
        "\n",
        "    elif (all(isinstance(n,str) for n in temp)):\n",
        "        while len(temp)>0:\n",
        "            value = temp[0]\n",
        "            for i in range(1,len(temp)):\n",
        "                if ord(temp[i])<ord(value):\n",
        "                    value = temp[i]\n",
        "            new.append(value)\n",
        "            temp.remove(value)\n",
        "        return(new)\n",
        "\n",
        "    else:\n",
        "        return('Cannot be sorted')\n",
        "\n",
        "\n",
        "list_1 = [16,8,4,0,4,-2]\n",
        "list_2 = ['s','j','o','a','b','f','k','l','j','s']\n",
        "print(list_1)\n",
        "print(sort(list_1))\n",
        "print(list_2)\n",
        "print(sort(list_2))\n"
      ],
      "execution_count": 0,
      "outputs": []
    },
    {
      "cell_type": "code",
      "metadata": {
        "id": "Wp6-nyrUkLEI",
        "colab_type": "code",
        "colab": {}
      },
      "source": [
        "# Replace Function\n",
        "\n",
        "def replace(string,word,replace_word):\n",
        "    while word in string:\n",
        "        new_string = ''\n",
        "        new_string += string[:string.index(word)]\n",
        "        new_string += replace_word\n",
        "        x = string.index(word)+len(word)\n",
        "        new_string += string[x:]\n",
        "        string = new_string\n",
        "    return string\n",
        "\n",
        "string = 'The colour is green'\n",
        "word = 'green'\n",
        "replace_word = 'yellow'\n",
        "\n",
        "print(replace(string,word,replace_word))\n"
      ],
      "execution_count": 0,
      "outputs": []
    },
    {
      "cell_type": "code",
      "metadata": {
        "id": "UBMCdQAak-D9",
        "colab_type": "code",
        "colab": {}
      },
      "source": [
        "# Reverse Function\n",
        "\n",
        "def reverse(string):\n",
        "    new_string = ''\n",
        "    for i in range(0,len(string)):\n",
        "        new_string += string[((len(string)-1)-i)]\n",
        "    return new_string\n",
        "\n",
        "string = input('Enter the string to be reversed :\\n')\n",
        "print(reverse(string))\n"
      ],
      "execution_count": 0,
      "outputs": []
    },
    {
      "cell_type": "code",
      "metadata": {
        "id": "SNbAmh2moVue",
        "colab_type": "code",
        "colab": {}
      },
      "source": [
        "# Power Function\n",
        "\n",
        "def power(value,power):\n",
        "    result = value**power\n",
        "    return (result)\n",
        "\n",
        "a = int(input('Enter a number : '))\n",
        "b = int(input('Enter power value : '))\n",
        "print(power(a,b))\n"
      ],
      "execution_count": 0,
      "outputs": []
    },
    {
      "cell_type": "code",
      "metadata": {
        "id": "Kk91SXChqm-g",
        "colab_type": "code",
        "colab": {}
      },
      "source": [
        "# Length Function\n",
        "\n",
        "def length(string):\n",
        "    result = 0\n",
        "    for i in string:\n",
        "        result += 1\n",
        "    return result\n",
        "\n",
        "string = input('Enter string to find its length : ')\n",
        "print(length(string))\n"
      ],
      "execution_count": 0,
      "outputs": []
    },
    {
      "cell_type": "code",
      "metadata": {
        "id": "rs5n6TpJ9pVT",
        "colab_type": "code",
        "colab": {}
      },
      "source": [
        "# Swap Function\n",
        "\n",
        "def swap(string,ind_1,ind_2):\n",
        "    temp = list(str(string))\n",
        "    x = temp[ind_1-1]\n",
        "    temp[ind_1-1] = temp[ind_2-1]\n",
        "    temp[ind_2-1] = x\n",
        "    temp = ''.join(temp)\n",
        "    return(temp)\n",
        "\n",
        "string = 'abcdef'\n",
        "print(string)\n",
        "print(swap(string,2,5))\n"
      ],
      "execution_count": 0,
      "outputs": []
    }
  ]
}