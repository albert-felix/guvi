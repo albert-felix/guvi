{
  "nbformat": 4,
  "nbformat_minor": 0,
  "metadata": {
    "colab": {
      "name": "General GUVI Task.ipynb",
      "provenance": [],
      "collapsed_sections": [
        "tkIF_96KYCcG"
      ],
      "toc_visible": true,
      "include_colab_link": true
    },
    "kernelspec": {
      "name": "python3",
      "display_name": "Python 3"
    }
  },
  "cells": [
    {
      "cell_type": "markdown",
      "metadata": {
        "id": "view-in-github",
        "colab_type": "text"
      },
      "source": [
        "<a href=\"https://colab.research.google.com/github/albert-felix/guvi/blob/master/General_GUVI_Task.ipynb\" target=\"_parent\"><img src=\"https://colab.research.google.com/assets/colab-badge.svg\" alt=\"Open In Colab\"/></a>"
      ]
    },
    {
      "cell_type": "markdown",
      "metadata": {
        "id": "tkIF_96KYCcG",
        "colab_type": "text"
      },
      "source": [
        "# Calculator\n"
      ]
    },
    {
      "cell_type": "code",
      "metadata": {
        "id": "NZNp6klF6PPu",
        "colab_type": "code",
        "colab": {}
      },
      "source": [
        "def add(a,b):\n",
        "    result = a+b\n",
        "    print(result)\n",
        "\n",
        "def sub(a,b):\n",
        "    result = a-b\n",
        "    print(result)\n",
        "\n",
        "def multiply(a,b):\n",
        "    result = a*b\n",
        "    print(result)\n",
        "\n",
        "def divide(a,b):\n",
        "    while True :\n",
        "        try:\n",
        "            result = a/b\n",
        "        except ZeroDivisionError:\n",
        "            print('Denominator cannot be zero for division')\n",
        "            input_2()\n",
        "            divide(input_1.value_1,input_2.value_2)\n",
        "            break\n",
        "        else:\n",
        "            print(result)\n",
        "            break\n",
        "\n",
        "def mod(a,b):\n",
        "    while True :\n",
        "        try:\n",
        "            result = a%b\n",
        "        except ZeroDivisionError:\n",
        "            print('Denominator cannot be zero for division')\n",
        "            input_2()\n",
        "            mod(input_1.value_1,input_2.value_2)\n",
        "            break\n",
        "        else:\n",
        "            print(result)\n",
        "            break\n",
        "\n",
        "def option():\n",
        "    print('1 -- ADD')\n",
        "    print('2 -- SUBTRACT')\n",
        "    print('3 -- MULTIPLY')\n",
        "    print('4 -- DIVIDE')\n",
        "    print('5 -- MOD')\n",
        "    operator = int(input('Enter an option : '))\n",
        "    operators = [1,2,3,4,5]\n",
        "    while operator in operators:\n",
        "        if operator == 1:\n",
        "            add(input_1.value_1,input_2.value_2)\n",
        "            break\n",
        "        elif operator == 2:\n",
        "            sub(input_1.value_1,input_2.value_2)\n",
        "            break\n",
        "        elif operator == 3:\n",
        "            multiply(input_1.value_1,input_2.value_2)\n",
        "            break\n",
        "        elif operator == 4:\n",
        "            divide(input_1.value_1,input_2.value_2)\n",
        "            break\n",
        "        elif operator == 5:\n",
        "            mod(input_1.value_1,input_2.value_2)\n",
        "            break\n",
        "    else:\n",
        "        print('Invalid Option')\n",
        "        option()\n",
        "\n",
        "def input_1():\n",
        "    while True:\n",
        "        try:\n",
        "            input_1.value_1 = float(input('Enter number 1 :'))\n",
        "        except ValueError:\n",
        "            print('Invalid input')\n",
        "            continue\n",
        "        else:\n",
        "            break\n",
        "\n",
        "def input_2():\n",
        "    while True:\n",
        "        try:\n",
        "            input_2.value_2 = float(input('Enter number 2 :'))\n",
        "        except ValueError:\n",
        "            print('Invalid input')\n",
        "            continue\n",
        "        else:\n",
        "            break\n",
        "\n",
        "input_1()\n",
        "input_2()\n",
        "option()\n"
      ],
      "execution_count": 0,
      "outputs": []
    },
    {
      "cell_type": "markdown",
      "metadata": {
        "id": "1SIz-cSAYWeT",
        "colab_type": "text"
      },
      "source": [
        "# Built_In_Function"
      ]
    },
    {
      "cell_type": "code",
      "metadata": {
        "id": "669LvYwqjhTS",
        "colab_type": "code",
        "colab": {
          "base_uri": "https://localhost:8080/",
          "height": 85
        },
        "outputId": "d63913b5-b7ba-42f6-c8c4-02e3e2bba702"
      },
      "source": [
        "# Sort Function\n",
        "\n",
        "def sort(string):\n",
        "    temp = string\n",
        "    new = []\n",
        "    if (all(isinstance(n,int)for n in temp)):\n",
        "        while len(temp)>0:\n",
        "            value = temp[0]\n",
        "            for i in range(1,len(temp)):\n",
        "                if temp[i]<value:\n",
        "                    value = temp[i]\n",
        "            new.append(value)\n",
        "            temp.remove(value)\n",
        "        return(new)\n",
        "\n",
        "    elif (all(isinstance(n,str) for n in temp)):\n",
        "        while len(temp)>0:\n",
        "            value = temp[0]\n",
        "            for i in range(1,len(temp)):\n",
        "                if ord(temp[i])<ord(value):\n",
        "                    value = temp[i]\n",
        "            new.append(value)\n",
        "            temp.remove(value)\n",
        "        return(new)\n",
        "\n",
        "    else:\n",
        "        return('Cannot be sorted')\n",
        "\n",
        "\n",
        "list_1 = [16,8,4,0,4,-2]\n",
        "list_2 = ['s','j','o','a','b','f','k','l','j','s']\n",
        "print(list_1)\n",
        "print(sort(list_1))\n",
        "print(list_2)\n",
        "print(sort(list_2))\n"
      ],
      "execution_count": 4,
      "outputs": [
        {
          "output_type": "stream",
          "text": [
            "[16, 8, 4, 0, 4, -2]\n",
            "[-2, 0, 4, 4, 8, 16]\n",
            "['s', 'j', 'o', 'a', 'b', 'f', 'k', 'l', 'j', 's']\n",
            "['a', 'b', 'f', 'j', 'j', 'k', 'l', 'o', 's', 's']\n"
          ],
          "name": "stdout"
        }
      ]
    },
    {
      "cell_type": "code",
      "metadata": {
        "id": "Wp6-nyrUkLEI",
        "colab_type": "code",
        "colab": {
          "base_uri": "https://localhost:8080/",
          "height": 34
        },
        "outputId": "26547f10-4002-45e3-982e-cc09eecd9d23"
      },
      "source": [
        "# Replace Function\n",
        "\n",
        "def replace(string,word,replace_word):\n",
        "    while word in string:\n",
        "        new_string = ''\n",
        "        new_string += string[:string.index(word)]\n",
        "        new_string += replace_word\n",
        "        x = string.index(word)+len(word)\n",
        "        new_string += string[x:]\n",
        "        string = new_string\n",
        "    return string\n",
        "\n",
        "string = 'The colour is green'\n",
        "word = 'green'\n",
        "replace_word = 'yellow'\n",
        "\n",
        "print(replace(string,word,replace_word))\n"
      ],
      "execution_count": 5,
      "outputs": [
        {
          "output_type": "stream",
          "text": [
            "The colour is yellow\n"
          ],
          "name": "stdout"
        }
      ]
    },
    {
      "cell_type": "code",
      "metadata": {
        "id": "UBMCdQAak-D9",
        "colab_type": "code",
        "colab": {
          "base_uri": "https://localhost:8080/",
          "height": 68
        },
        "outputId": "11107030-4bd3-443f-888b-1a96a684056b"
      },
      "source": [
        "# Reverse Function\n",
        "\n",
        "def reverse(string):\n",
        "    new_string = ''\n",
        "    for i in range(0,len(string)):\n",
        "        new_string += string[((len(string)-1)-i)]\n",
        "    return new_string\n",
        "\n",
        "string = input('Enter the string to be reversed :\\n')\n",
        "print(reverse(string))\n"
      ],
      "execution_count": 6,
      "outputs": [
        {
          "output_type": "stream",
          "text": [
            "Enter the string to be reversed :\n",
            "abcde\n",
            "edcba\n"
          ],
          "name": "stdout"
        }
      ]
    }
  ]
}